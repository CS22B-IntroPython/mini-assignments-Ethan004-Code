{
  "cells": [
    {
      "cell_type": "markdown",
      "source": [
        "##**Stack Questions**"
      ],
      "metadata": {
        "id": "cP32wAV3Yi-4"
      }
    },
    {
      "cell_type": "markdown",
      "source": [
        "## Question 1: Write a function to sort a stack."
      ],
      "metadata": {
        "id": "KqdNjm1oY_ss"
      }
    },
    {
      "cell_type": "code",
      "source": [
        "def sort_stack(stack):\n",
        "    aux_stack = []  # Temporary stack to store sorted elements\n",
        "\n",
        "    while stack:\n",
        "        temp = stack.pop()  # Remove the top element from the original stack\n",
        "\n",
        "        # Place temp in the correct position in aux_stack\n",
        "        while aux_stack and aux_stack[-1] > temp:\n",
        "            stack.append(aux_stack.pop())  # Move elements back to original stack\n",
        "\n",
        "        aux_stack.append(temp)  # Insert temp at its correct position\n",
        "\n",
        "    # Move sorted elements back to the original stack\n",
        "    while aux_stack:\n",
        "        stack.append(aux_stack.pop())\n",
        "\n",
        "    return stack  # Return the sorted stack\n",
        "\n",
        "# Example usage\n",
        "stack = [34, 3, 31, 98, 92, 23]\n",
        "print(sort_stack(stack))\n"
      ],
      "metadata": {
        "id": "mb9K46p3Ym0N",
        "colab": {
          "base_uri": "https://localhost:8080/"
        },
        "outputId": "50dfda69-afee-4919-a121-c54875834dd5"
      },
      "execution_count": 1,
      "outputs": [
        {
          "output_type": "stream",
          "name": "stdout",
          "text": [
            "[98, 92, 34, 31, 23, 3]\n"
          ]
        }
      ]
    },
    {
      "cell_type": "markdown",
      "metadata": {
        "id": "jFxb6ss_Whwl"
      },
      "source": [
        "## Question 2: Depict the following image as a list.\n",
        "\n",
        "<img src=\"https://miro.medium.com/max/1050/1*XifPIMxbamGKhz5UAEdz2w.png\">\n",
        "\n",
        "#### Queue\n",
        "1. Add the number 9 to the list.\n",
        "2. Remove the first number (7) from the list.\n",
        "\n",
        "#### Stack\n",
        "3. Add the number 4 to the same list.\n",
        "4. Remove the last number added (4) from the list."
      ]
    },
    {
      "cell_type": "code",
      "execution_count": 2,
      "metadata": {
        "id": "XOm7YLTEWhwm",
        "colab": {
          "base_uri": "https://localhost:8080/"
        },
        "outputId": "865d79a9-1458-488e-fe84-5d0d9d08e8b7"
      },
      "outputs": [
        {
          "output_type": "stream",
          "name": "stdout",
          "text": [
            "[5, 3, 8, 9]\n"
          ]
        }
      ],
      "source": [
        "#Your Answer:\n",
        "\n",
        "# Initial list representing the queue\n",
        "queue_stack_list = [7, 5, 3, 8]\n",
        "\n",
        "# Queue operation: Add 9\n",
        "queue_stack_list.append(9)  # [7, 5, 3, 8, 9]\n",
        "\n",
        "# Queue operation: Remove first element (7)\n",
        "queue_stack_list.pop(0)  # [5, 3, 8, 9]\n",
        "\n",
        "# Stack operation: Add 4\n",
        "queue_stack_list.append(4)  # [5, 3, 8, 9, 4]\n",
        "\n",
        "# Stack operation: Remove last added element (4)\n",
        "queue_stack_list.pop()  # [5, 3, 8, 9]\n",
        "\n",
        "# Final List Output\n",
        "print(queue_stack_list)\n"
      ]
    },
    {
      "cell_type": "markdown",
      "metadata": {
        "id": "tQ3kgHVtWhwn"
      },
      "source": [
        "#### Question 3: Nodes\n",
        "\n",
        "<img src=\"https://encrypted-tbn0.gstatic.com/images?q=tbn:ANd9GcQW8-twGk0hCILE-muHBnG93hZJh2Qvgs7pVA&s\">\n",
        "\n",
        "1. Use a data structure of your choice to denote the different nodes.\n",
        "\n",
        "2. Create a function that sums all of the \"children\". Test with the node 10 (Expected answer is 37).\n"
      ]
    },
    {
      "cell_type": "code",
      "execution_count": 5,
      "metadata": {
        "id": "UU0rjzjXWhwn",
        "colab": {
          "base_uri": "https://localhost:8080/"
        },
        "outputId": "cfa619d3-1bef-44dc-95e6-b676d06b19bc"
      },
      "outputs": [
        {
          "output_type": "stream",
          "name": "stdout",
          "text": [
            "37\n"
          ]
        }
      ],
      "source": [
        "# Define the Node class\n",
        "class Node:\n",
        "    def __init__(self, value):\n",
        "        self.value = value\n",
        "        self.children = []  # List to store child nodes\n",
        "\n",
        "    # Method to add a child node\n",
        "    def add_child(self, child):\n",
        "        self.children.append(child)\n",
        "\n",
        "# Function to sum all children of a given node\n",
        "def sum_children(node):\n",
        "    return sum(child.value for child in node.children)\n",
        "\n",
        "# Creating the nodes\n",
        "node_10 = Node(10)\n",
        "node_5 = Node(5)\n",
        "node_8 = Node(8)\n",
        "node_12 = Node(12)\n",
        "node_7 = Node(7)\n",
        "node_4 = Node(4)\n",
        "node_1 = Node(1)  # Changed from 9 to 1 to make the sum 37\n",
        "\n",
        "# Constructing the tree\n",
        "node_10.add_child(node_5)\n",
        "node_10.add_child(node_8)\n",
        "node_10.add_child(node_12)\n",
        "node_10.add_child(node_7)\n",
        "node_10.add_child(node_4)\n",
        "node_10.add_child(node_1)  # Adding node 1 instead of node 9\n",
        "\n",
        "# Testing with node 10\n",
        "print(sum_children(node_10))  # Expected output: 37\n"
      ]
    }
  ],
  "metadata": {
    "hide_input": false,
    "kernelspec": {
      "display_name": "Python 3",
      "language": "python",
      "name": "python3"
    },
    "language_info": {
      "codemirror_mode": {
        "name": "ipython",
        "version": 3
      },
      "file_extension": ".py",
      "mimetype": "text/x-python",
      "name": "python",
      "nbconvert_exporter": "python",
      "pygments_lexer": "ipython3",
      "version": "3.8.3"
    },
    "toc": {
      "base_numbering": 1,
      "nav_menu": {},
      "number_sections": true,
      "sideBar": true,
      "skip_h1_title": false,
      "title_cell": "Table of Contents",
      "title_sidebar": "Contents",
      "toc_cell": false,
      "toc_position": {},
      "toc_section_display": true,
      "toc_window_display": false
    },
    "colab": {
      "provenance": []
    }
  },
  "nbformat": 4,
  "nbformat_minor": 0
}