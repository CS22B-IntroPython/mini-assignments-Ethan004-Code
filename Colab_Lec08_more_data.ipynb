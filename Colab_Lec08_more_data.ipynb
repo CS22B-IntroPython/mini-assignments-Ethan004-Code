{
  "cells": [
    {
      "cell_type": "markdown",
      "metadata": {
        "id": "XXueMou6e2fW"
      },
      "source": [
        "# Explore your data file some more\n",
        "- We are continuing (from Lec 07) our work on data exploring using pandas."
      ]
    },
    {
      "cell_type": "code",
      "execution_count": null,
      "metadata": {
        "id": "hyL8ePRTe2fa"
      },
      "outputs": [],
      "source": [
        "# importing the package(s) we want to use\n",
        "import pandas as pd"
      ]
    },
    {
      "cell_type": "code",
      "execution_count": null,
      "metadata": {
        "id": "HlU8VYjYe2fi"
      },
      "outputs": [],
      "source": [
        "csvFile = 'https://raw.githubusercontent.com/csbfx/advpy122-data/master/top_movies_2020.csv'\n",
        "\n",
        "movies = pd.read_csv(csvFile)"
      ]
    },
    {
      "cell_type": "markdown",
      "metadata": {
        "id": "5dO7zTFue2fj"
      },
      "source": [
        "## Filtering DataFrame with string datatype"
      ]
    },
    {
      "cell_type": "code",
      "execution_count": null,
      "metadata": {
        "id": "XlpEv0YWe2fj"
      },
      "outputs": [],
      "source": [
        "### You can search for instances of a substring in a column and return rows\n",
        "# Search for substring and print Title\n",
        "movies[movies['Title'].str.contains(\"man\")]['Title']\n",
        "\n",
        "# To convert this series to a list\n",
        "man_list = movies[movies['Title'].str.contains(\"man\")]['Title'].tolist()"
      ]
    },
    {
      "cell_type": "markdown",
      "source": [
        "### Working with the list\n",
        "Once you have the list, how do you  \n",
        "1. How to find out how many elements there are in your list?  \n",
        "2. How to get the first 5 elements in the list?"
      ],
      "metadata": {
        "id": "CwOaaHCwva_f"
      }
    },
    {
      "cell_type": "code",
      "source": [
        "### To retrieve the number of elements in the list use len()\n",
        "# len(man_list)\n",
        "\n",
        "### To retrieve the first 5 elements of the list, use a slice\n",
        "# man_list[:5]"
      ],
      "metadata": {
        "id": "oHJdDTKiwBIm"
      },
      "execution_count": null,
      "outputs": []
    },
    {
      "cell_type": "markdown",
      "source": [
        "### Finding unique values\n",
        "We can retrieve unique values to ask\n",
        "1. How many times an item occurs in a column?\n",
        "2. To extract out distinct obeservations elements in a column\n",
        "3. To count the number of distinct obeservations in a column"
      ],
      "metadata": {
        "id": "PaKTLLE9wxne"
      }
    },
    {
      "cell_type": "code",
      "source": [
        "### To count the number of times a unique item is found in a column we can use value_count()\n",
        "# movies.Title.value_counts()\n",
        "\n",
        "### To extract out the unique values in a column using the unique() method\n",
        "# movies.Title.unique()\n",
        "\n",
        "### To quantify how many unique using the nunique() method\n",
        "# movies.Title.nunique()"
      ],
      "metadata": {
        "id": "4wIMZAg6xQcI"
      },
      "execution_count": null,
      "outputs": []
    },
    {
      "cell_type": "markdown",
      "source": [
        "###Question: How many distinct movies came out in the 1990s?\n",
        "You can use two approach to this  \n",
        "(1) Filter out the DataFrame based on conditions of the year  \n",
        "(2) Use the str approach to find all years in 1990s"
      ],
      "metadata": {
        "id": "MsyqFnCg0r3h"
      }
    },
    {
      "cell_type": "code",
      "source": [
        "### Your code"
      ],
      "metadata": {
        "id": "Gibj1jpN4R3A"
      },
      "execution_count": null,
      "outputs": []
    },
    {
      "cell_type": "code",
      "source": [
        "### (1) Filter out the DataFrame based on conditions of the year\n",
        "# len(movies[(movies['Year']>=1990)&\\\n",
        "      #  (movies['Year']<=1999)])\n",
        "\n",
        "### (2) Use the str approach to find all years in 1990s\n",
        "# movies[movies['Year'].astype(str).str.contains(\"199\")].Title.nunique()"
      ],
      "metadata": {
        "id": "7uns9Vhs0pu1"
      },
      "execution_count": null,
      "outputs": []
    },
    {
      "cell_type": "markdown",
      "source": [
        "### Question: How many distinct movies came out for each decade?\n",
        "Can you write a for loop to iterate through all the decades?"
      ],
      "metadata": {
        "id": "sRc6y6cT3-oz"
      }
    },
    {
      "cell_type": "code",
      "source": [
        "### Your code"
      ],
      "metadata": {
        "id": "ySMCvIz13-N5"
      },
      "execution_count": null,
      "outputs": []
    },
    {
      "cell_type": "code",
      "source": [
        "# decades=['191','192','193','194','195','196','197','198','199','200','201','202']\n",
        "\n",
        "# count=0\n",
        "# for decade in decades:\n",
        "#   print(decade+str(count), movies[movies['Year'].astype(str).str.contains(decade)].Title.nunique())"
      ],
      "metadata": {
        "id": "z4QbnzAazKG0"
      },
      "execution_count": null,
      "outputs": []
    },
    {
      "cell_type": "markdown",
      "source": [
        "### Working with string elements\n",
        "We can think of string as a list of elements. In a column with string datatype, we can split the string using the split() method."
      ],
      "metadata": {
        "id": "CreHd0QO4jc3"
      }
    },
    {
      "cell_type": "code",
      "source": [
        "### The split method takes a string and split it into a list\n",
        "movies.Title.str.split()\n",
        "\n",
        "## To extract the first element and place it into a new column, assign the new column and run split and extract first element\n",
        "movies['first_word'] = movies.Title.str.split().str[0]"
      ],
      "metadata": {
        "id": "Ubep4PMW44vE"
      },
      "execution_count": null,
      "outputs": []
    }
  ],
  "metadata": {
    "hide_input": false,
    "kernelspec": {
      "display_name": "Python 3",
      "language": "python",
      "name": "python3"
    },
    "language_info": {
      "codemirror_mode": {
        "name": "ipython",
        "version": 3
      },
      "file_extension": ".py",
      "mimetype": "text/x-python",
      "name": "python",
      "nbconvert_exporter": "python",
      "pygments_lexer": "ipython3",
      "version": "3.8.3"
    },
    "toc": {
      "base_numbering": 1,
      "nav_menu": {},
      "number_sections": true,
      "sideBar": true,
      "skip_h1_title": false,
      "title_cell": "Table of Contents",
      "title_sidebar": "Contents",
      "toc_cell": false,
      "toc_position": {},
      "toc_section_display": true,
      "toc_window_display": false
    },
    "colab": {
      "provenance": []
    }
  },
  "nbformat": 4,
  "nbformat_minor": 0
}